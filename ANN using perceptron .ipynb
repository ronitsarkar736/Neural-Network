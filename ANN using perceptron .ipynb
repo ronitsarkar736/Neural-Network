{
 "cells": [
  {
   "cell_type": "markdown",
   "id": "bd4a88bd",
   "metadata": {},
   "source": [
    "**Part 1: Code Analysis**"
   ]
  },
  {
   "cell_type": "code",
   "execution_count": 2,
   "id": "f6f6f883",
   "metadata": {},
   "outputs": [],
   "source": [
    "class Perceptron:\n",
    "    def __init__(self, learning_rate=0.1, epochs=100):\n",
    "        # Initialize weights and bias\n",
    "        self.weights = np.random.rand(2)  # Two weights for two inputs\n",
    "        self.bias = np.random.rand(1)\n",
    "        self.learning_rate = learning_rate\n",
    "        self.epochs = epochs"
   ]
  },
  {
   "cell_type": "code",
   "execution_count": 3,
   "id": "27c17e5f",
   "metadata": {},
   "outputs": [],
   "source": [
    "def step_function(self, x):\n",
    "    return 1 if x >= 0 else 0"
   ]
  },
  {
   "cell_type": "code",
   "execution_count": 4,
   "id": "5f6373b6",
   "metadata": {},
   "outputs": [],
   "source": [
    "def train(self, X, y):\n",
    "    for epoch in range(self.epochs):\n",
    "        for i in range(len(X)):\n",
    "            # Prediction and error calculation\n",
    "            prediction = self.predict(X[i])\n",
    "            error = y[i] - prediction\n",
    "\n",
    "            # Update weights and bias\n",
    "            self.weights += self.learning_rate * error * X[i]\n",
    "            self.bias += self.learning_rate * error\n"
   ]
  },
  {
   "cell_type": "markdown",
   "id": "94b91466",
   "metadata": {},
   "source": [
    "**Part 2: Implement and Run the Code**"
   ]
  },
  {
   "cell_type": "code",
   "execution_count": 5,
   "id": "1b01af5b",
   "metadata": {},
   "outputs": [
    {
     "name": "stdout",
     "output_type": "stream",
     "text": [
      "Input: [0 0] => Prediction: 0\n",
      "Input: [0 1] => Prediction: 0\n",
      "Input: [1 0] => Prediction: 0\n",
      "Input: [1 1] => Prediction: 1\n"
     ]
    }
   ],
   "source": [
    "import numpy as np\n",
    "\n",
    "class Perceptron:\n",
    "    def __init__(self, learning_rate=0.1, epochs=100):\n",
    "        self.weights = np.random.rand(2)  # Two input values\n",
    "        self.bias = np.random.rand(1)\n",
    "        self.learning_rate = learning_rate\n",
    "        self.epochs = epochs\n",
    "\n",
    "    def step_function(self, x):\n",
    "        return 1 if x >= 0 else 0\n",
    "\n",
    "    def predict(self, x):\n",
    "        linear_output = np.dot(x, self.weights) + self.bias\n",
    "        return self.step_function(linear_output)\n",
    "\n",
    "    def train(self, X, y):\n",
    "        for epoch in range(self.epochs):\n",
    "            for i in range(len(X)):\n",
    "                prediction = self.predict(X[i])\n",
    "                error = y[i] - prediction\n",
    "                self.weights += self.learning_rate * error * X[i]\n",
    "                self.bias += self.learning_rate * error\n",
    "\n",
    "# Dataset\n",
    "X = np.array([[0, 0], [0, 1], [1, 0], [1, 1]])\n",
    "y = np.array([0, 0, 0, 1])\n",
    "\n",
    "# Train perceptron\n",
    "perceptron = Perceptron(learning_rate=0.1, epochs=100)\n",
    "perceptron.train(X, y)\n",
    "\n",
    "# Test\n",
    "for x in X:\n",
    "    print(f\"Input: {x} => Prediction: {perceptron.predict(x)}\")\n"
   ]
  },
  {
   "cell_type": "markdown",
   "id": "3c63cbb9",
   "metadata": {},
   "source": [
    "**Part 3: Modifications and Experimentation**"
   ]
  },
  {
   "cell_type": "markdown",
   "id": "0f92c59c",
   "metadata": {},
   "source": [
    "Experiment 1: Change Learning Rate"
   ]
  },
  {
   "cell_type": "code",
   "execution_count": 9,
   "id": "0564dead",
   "metadata": {},
   "outputs": [],
   "source": [
    "# Change the learning rate to 0.01 or 0.5 and observe\n",
    "perceptron = Perceptron(learning_rate=0.01, epochs=100)\n",
    "perceptron.train(X, y)\n"
   ]
  },
  {
   "cell_type": "markdown",
   "id": "62ae48f3",
   "metadata": {},
   "source": [
    "Experiment 2: Increase Number of Epochs"
   ]
  },
  {
   "cell_type": "code",
   "execution_count": 10,
   "id": "7b2256bf",
   "metadata": {},
   "outputs": [],
   "source": [
    "# Increase epochs to 200 or more\n",
    "perceptron = Perceptron(learning_rate=0.1, epochs=200)\n",
    "perceptron.train(X, y)"
   ]
  },
  {
   "cell_type": "markdown",
   "id": "7462523e",
   "metadata": {},
   "source": [
    "Experiment 3: Modify Dataset with Edge Cases"
   ]
  },
  {
   "cell_type": "code",
   "execution_count": 12,
   "id": "35ded30b",
   "metadata": {},
   "outputs": [],
   "source": [
    "# Modify dataset with values close to 0 or 1\n",
    "X_modified = np.array([[0, 0.1], [0.1, 1], [1, 0.1], [0.9, 0.9], [1, 1]])\n",
    "y_modified = np.array([0, 0, 0, 1, 1])\n",
    "\n",
    "perceptron.train(X_modified, y_modified)\n"
   ]
  },
  {
   "cell_type": "code",
   "execution_count": null,
   "id": "880b0eea",
   "metadata": {},
   "outputs": [],
   "source": []
  }
 ],
 "metadata": {
  "kernelspec": {
   "display_name": "Python 3 (ipykernel)",
   "language": "python",
   "name": "python3"
  },
  "language_info": {
   "codemirror_mode": {
    "name": "ipython",
    "version": 3
   },
   "file_extension": ".py",
   "mimetype": "text/x-python",
   "name": "python",
   "nbconvert_exporter": "python",
   "pygments_lexer": "ipython3",
   "version": "3.11.5"
  }
 },
 "nbformat": 4,
 "nbformat_minor": 5
}
